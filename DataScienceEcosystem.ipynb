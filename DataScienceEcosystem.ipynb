{
  "metadata": {
    "kernelspec": {
      "name": "python",
      "display_name": "Python (Pyodide)",
      "language": "python"
    },
    "language_info": {
      "codemirror_mode": {
        "name": "python",
        "version": 3
      },
      "file_extension": ".py",
      "mimetype": "text/x-python",
      "name": "python",
      "nbconvert_exporter": "python",
      "pygments_lexer": "ipython3",
      "version": "3.8"
    }
  },
  "nbformat_minor": 5,
  "nbformat": 4,
  "cells": [
    {
      "cell_type": "markdown",
      "source": "<H1>Data Science Tools and Ecosystem</H1>",
      "metadata": {},
      "id": "b8dfff2a-bdcb-4ada-8f1d-e97ca56a9daf"
    },
    {
      "cell_type": "markdown",
      "source": "In this notebook, Data science Tools and Ecosystem are summarized.\n",
      "metadata": {},
      "id": "06ee1935-bff1-40b3-bd8b-aed879fb12c8"
    },
    {
      "cell_type": "markdown",
      "source": "Some of the popular languages that Data Scientists use are:\n<ol>\n<li>Python</li>\n<li>R</li>\n<li>Scala</li>    \n</ol>",
      "metadata": {},
      "id": "aff61ff6-635c-4105-8496-2288625537e9"
    },
    {
      "cell_type": "markdown",
      "source": "Some of the commonly used libraries used by Data Scientists include:\n\n<ol>\n    <li>caret</li>\n    <li>keras</li>\n    <li>pandas</li>\n</ol>",
      "metadata": {},
      "id": "f01c172c-caad-448b-9d65-35accffb9c58"
    },
    {
      "cell_type": "markdown",
      "source": "|Data Science Tools|\n|------------------|\n|Jupyter Notebook  |\n|Apache Zeppelin   |\n|Rstudio           |",
      "metadata": {},
      "id": "cf13c671-e4e6-420a-aa67-5509f77e532b"
    },
    {
      "cell_type": "markdown",
      "source": "<H3>Below are a few examples of evaluating arithmetic expressions in Python</H3>",
      "metadata": {},
      "id": "ff4b0084-0156-4a72-aa94-e7ce3addb28c"
    },
    {
      "cell_type": "code",
      "source": "print(\"This is a simple arithmetic expression to muliply then add integers\")\nprint((3*4)+5)",
      "metadata": {
        "trusted": true
      },
      "execution_count": 2,
      "outputs": [
        {
          "name": "stdout",
          "text": "This is a simple arithmetic expression to muliply then add integers\n17\n",
          "output_type": "stream"
        }
      ],
      "id": "c8f928d5-388b-4e22-949a-232c3427c74c"
    },
    {
      "cell_type": "code",
      "source": "print(\"This will convert 200 minutes to hours by dividing 60\")\nprint(200/60)",
      "metadata": {
        "trusted": true
      },
      "execution_count": 3,
      "outputs": [
        {
          "name": "stdout",
          "text": "This will convert 200 minutes to hours by dividing 60\n3.3333333333333335\n",
          "output_type": "stream"
        }
      ],
      "id": "0261fe56-d648-4750-92f4-d96226017b22"
    },
    {
      "cell_type": "markdown",
      "source": "Objectives:\n<ul>\n    <li>Python</li>\n    <li>R</li>\n    <li>Scala</li>\n</ul>\n",
      "metadata": {},
      "id": "fe4d3ef7-2828-4e94-962d-e5bdc08cf7be"
    },
    {
      "cell_type": "markdown",
      "source": "<H2>Author Lee Ju Hyoung</H2>",
      "metadata": {},
      "id": "e5f1fe69-8f3c-4ff9-b2f2-be7bde9d9401"
    },
    {
      "cell_type": "code",
      "source": "",
      "metadata": {},
      "execution_count": null,
      "outputs": [],
      "id": "fcee27c2-9991-4643-878e-8dd25ef18ac7"
    }
  ]
}